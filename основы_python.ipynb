{
  "cells": [
    {
      "cell_type": "markdown",
      "metadata": {},
      "source": [
        "# Задача 1\n",
        "Написать функцию на вход которой подается строка, состоящая из латинских букв.\n",
        "Функция должна вернуть количество гласных букв (a, e, i, o, u) в этой строке. Написать тесты для кода"
      ]
    },
    {
      "cell_type": "code",
      "execution_count": 9,
      "metadata": {
        "id": "XvX8X_JJ6PCb"
      },
      "outputs": [
        {
          "name": "stdout",
          "output_type": "stream",
          "text": [
            "0\n",
            "5\n",
            "9\n",
            "0\n",
            "1\n",
            "5\n",
            "Некорректный ввод\n"
          ]
        }
      ],
      "source": [
        "def count(string):\n",
        "    if type(string) != type(\"sd\"): return \"Некорректный ввод\"\n",
        "\n",
        "    count = 0\n",
        "    for i in string:\n",
        "        if i in \"aeiouAEIOU\": count+=1\n",
        "    return count\n",
        "\n",
        "def test_1():\n",
        "    return count('fdhdsfg')\n",
        "\n",
        "def test_2():\n",
        "    return count('aeiou')\n",
        "\n",
        "def test_3():\n",
        "    return count('aedsdsadouooou')\n",
        "\n",
        "def test_4():\n",
        "    return count('')\n",
        "\n",
        "def test_5():\n",
        "    return count('ABCD')\n",
        "\n",
        "def test_6():\n",
        "    return count('ouAEI')\n",
        "\n",
        "def test_7():\n",
        "    return count(45)\n",
        "\n",
        "print(test_1())\n",
        "print(test_2())\n",
        "print(test_3())\n",
        "print(test_4())\n",
        "print(test_5())\n",
        "print(test_6())\n",
        "print(test_7())"
      ]
    },
    {
      "cell_type": "markdown",
      "metadata": {
        "id": "t2ClV_Y0bbr6"
      },
      "source": [
        "# Задача 2\n",
        "Написать функцию на вход, которой подается строка. Функция должна вернуть true, если\n",
        "каждый символ в строке встречается только 1 раз, иначе должна вернуть false. Написать тесты для кода"
      ]
    },
    {
      "cell_type": "code",
      "execution_count": 10,
      "metadata": {
        "id": "FppbECao6VIz"
      },
      "outputs": [
        {
          "name": "stdout",
          "output_type": "stream",
          "text": [
            "False\n",
            "True\n",
            "False\n",
            "True\n",
            "False\n",
            "False\n",
            "False\n",
            "False\n",
            "Некорректный ввод\n"
          ]
        }
      ],
      "source": [
        "def func(string):\n",
        "    if type(string) != type(\"sd\"): return \"Некорректный ввод\"\n",
        "\n",
        "    string = string.lower()\n",
        "    for i in string:\n",
        "        if string.count(i) != 1:\n",
        "            return False\n",
        "    return True\n",
        "\n",
        "\n",
        "def test_1():\n",
        "    return func('dasdasdad')\n",
        "\n",
        "def test_2():\n",
        "    return func('qwertyu')\n",
        "\n",
        "def test_3():\n",
        "    return func('ewerrr')\n",
        "\n",
        "def test_4():\n",
        "    return func('')\n",
        "\n",
        "def test_5():\n",
        "    return func('dasdasDSSSSdad')\n",
        "\n",
        "def test_6():\n",
        "    return func('ERERE1')\n",
        "\n",
        "def test_7():\n",
        "    return func('11ewe')\n",
        "\n",
        "def test_8():\n",
        "    return func('3434')\n",
        "\n",
        "def test_9():\n",
        "    return func(45)\n",
        "\n",
        "print(test_1())\n",
        "print(test_2())\n",
        "print(test_3())\n",
        "print(test_4())\n",
        "print(test_5())\n",
        "print(test_6())\n",
        "print(test_7())\n",
        "print(test_8())\n",
        "print(test_9())\n"
      ]
    },
    {
      "cell_type": "markdown",
      "metadata": {
        "id": "udRiIK1cdt6E"
      },
      "source": [
        "# Задача 3\n",
        "Написать функцию, которая принимает положительное число и возвращает количество\n",
        "бит равных 1 в этом числе. Написать тесты для кода"
      ]
    },
    {
      "cell_type": "code",
      "execution_count": 14,
      "metadata": {
        "id": "6tkfDJRz6dp_"
      },
      "outputs": [
        {
          "name": "stdout",
          "output_type": "stream",
          "text": [
            "0\n",
            "1\n",
            "3\n",
            "4\n",
            "4\n",
            "5\n",
            "Некорректный ввод\n",
            "Некорректный ввод\n"
          ]
        }
      ],
      "source": [
        "def count_bit(a):\n",
        "    if not isinstance(a, int) or a < 0 and not isinstance(a, str):\n",
        "        return \"Некорректный ввод\"\n",
        "    a = bin(a)[2:]\n",
        "    count = 0\n",
        "    for i in a:\n",
        "        if i == '1': count += 1\n",
        "    return count\n",
        "\n",
        "\n",
        "def test_1():\n",
        "    return count_bit(0)\n",
        "\n",
        "def test_2():\n",
        "    return count_bit(1)\n",
        "\n",
        "def test_3():\n",
        "    return count_bit(67)\n",
        "\n",
        "\n",
        "def test_4():\n",
        "    return count_bit(99)\n",
        "\n",
        "def test_8():\n",
        "    return count_bit(-27)\n",
        "\n",
        "def test_5():\n",
        "    return count_bit(154)\n",
        "\n",
        "def test_6():\n",
        "    return count_bit(10000)\n",
        "\n",
        "def test_7():\n",
        "    return count_bit('sdffe')\n",
        "\n",
        "print(test_1())\n",
        "print(test_2())\n",
        "print(test_3())\n",
        "print(test_4())\n",
        "print(test_5())\n",
        "print(test_6())\n",
        "print(test_7())\n",
        "print(test_8())"
      ]
    },
    {
      "cell_type": "markdown",
      "metadata": {
        "id": "26dDUz-Ae17N"
      },
      "source": [
        "# Задача 4\n",
        "Написать функцию, которая принимает положительное число. Функция должна вернуть то,\n",
        "сколько раз необходимо перемножать цифры числа или результат перемножения, чтобы\n",
        "получилось число состоящее из одной цифры.\n",
        "Например, для входного числа:\n",
        "· 39 функция должна вернуть 3, так как 3*9=27 => 2*7=14 => 1*4=4\n",
        "· 4 функция должна вернуть 0, так как число уже состоит из одной цифры\n",
        "· 999 функция должна вернуть 4, так как 9*9*9=729 => 7*2*9=126 => 1*2*6=12 =>\n",
        "1*2=2. Написать тесты для кода"
      ]
    },
    {
      "cell_type": "code",
      "execution_count": 15,
      "metadata": {
        "id": "BH1A_Mgi6i4G"
      },
      "outputs": [
        {
          "name": "stdout",
          "output_type": "stream",
          "text": [
            "3\n",
            "0\n",
            "2\n",
            "0\n",
            "Некорректный ввод\n",
            "Некорректный ввод\n"
          ]
        }
      ],
      "source": [
        "def func(a):\n",
        "    if not isinstance(a, int) or a < 0 and not isinstance(a, str): return \"Некорректный ввод\"\n",
        "    if a < 10: return 0\n",
        "    count = 0\n",
        "\n",
        "    while a >= 10:\n",
        "        result = 1\n",
        "        while a > 0:\n",
        "            result = result * (a % 10)\n",
        "            a //= 10\n",
        "        a = result\n",
        "        count += 1\n",
        "\n",
        "    return count\n",
        "\n",
        "\n",
        "def test_1():\n",
        "    return func(729)\n",
        "\n",
        "def test_2():\n",
        "    return func(4)\n",
        "\n",
        "def test_3():\n",
        "    return func(2135)\n",
        "\n",
        "def test_4():\n",
        "    return func(0)\n",
        "\n",
        "def test_5():\n",
        "    return func('asdasf')\n",
        "\n",
        "def test_6():\n",
        "    return func(-29)\n",
        "\n",
        "\n",
        "print(test_1())\n",
        "print(test_2())\n",
        "print(test_3())\n",
        "print(test_4())\n",
        "print(test_5())\n",
        "print(test_6())"
      ]
    },
    {
      "cell_type": "markdown",
      "metadata": {
        "id": "0nS-kIa8g8vd"
      },
      "source": [
        "# Задача 5\n",
        "Написать функцию, которая принимает два целочисленных вектора одинаковой длины и\n",
        "возвращает среднеквадратическое отклонение двух векторов. Написать тесты для кода"
      ]
    },
    {
      "cell_type": "code",
      "execution_count": null,
      "metadata": {
        "id": "8iphx4LM6xbx"
      },
      "outputs": [
        {
          "ename": "",
          "evalue": "",
          "output_type": "error",
          "traceback": [
            "\u001b[1;31mRunning cells with 'Python 3.12.0' requires the ipykernel package.\n",
            "\u001b[1;31mRun the following command to install 'ipykernel' into the Python environment. \n",
            "\u001b[1;31mCommand: 'c:/Users/комп/AppData/Local/Programs/Python/Python312/python.exe -m pip install ipykernel -U --user --force-reinstall'"
          ]
        }
      ],
      "source": [
        "def mse(pred, true):\n",
        "    # Your code goes here\n",
        "    pass"
      ]
    },
    {
      "cell_type": "markdown",
      "metadata": {
        "id": "vpIPKL439zkw"
      },
      "source": [
        "# Задача 6\n",
        "Написать функцию, принимающая целое положительное число. Функция должна вернуть\n",
        "строку вида “(n1**p1)(n2**p2)…(nk**pk)” представляющая разложение числа на простые\n",
        "множители (если pi == 1, то выводить только ni).\n",
        "Например, для числа 86240 функция должна вернуть “(2**5)(5)(7**2)(11)”. Написать тесты для кода"
      ]
    },
    {
      "cell_type": "code",
      "execution_count": 20,
      "metadata": {
        "id": "pFebmcZk94Jw"
      },
      "outputs": [
        {
          "name": "stdout",
          "output_type": "stream",
          "text": [
            "()\n",
            "()\n",
            "Некорректный ввод\n",
            "(2**5)(5)(7**2)(11)\n",
            "(2**3)(5**3)\n",
            "Некорректный ввод\n"
          ]
        }
      ],
      "source": [
        "def decomposition(a):\n",
        "    if not isinstance(a, int) or a < 0 and not isinstance(a, str): return \"Некорректный ввод\"\n",
        "\n",
        "    multipliers = []\n",
        "    divisor = 2\n",
        "\n",
        "    while a > 1:\n",
        "        power = 0\n",
        "        while a % divisor == 0:\n",
        "            a //= divisor\n",
        "            power += 1\n",
        "        if power > 0:\n",
        "            if power == 1: multipliers.append(str(divisor))\n",
        "            else: multipliers.append(f'{divisor}**{power}')\n",
        "        divisor += 1\n",
        "\n",
        "    return '(' + ')('.join(multipliers) + ')'\n",
        "\n",
        "\n",
        "def test_1():\n",
        "    return decomposition(0)\n",
        "\n",
        "def test_2():\n",
        "    return decomposition(1)\n",
        "\n",
        "def test_3():\n",
        "    return decomposition(-16)\n",
        "\n",
        "def test_4():\n",
        "    return decomposition(86240)\n",
        "\n",
        "def test_5():\n",
        "    return decomposition(1000)\n",
        "\n",
        "def test_6():\n",
        "    return decomposition('adfef')\n",
        "\n",
        "print(test_1())\n",
        "print(test_2())\n",
        "print(test_3())\n",
        "print(test_4())\n",
        "print(test_5())\n",
        "print(test_6())"
      ]
    },
    {
      "cell_type": "markdown",
      "metadata": {
        "id": "ps2s0BudX7A2"
      },
      "source": [
        "# Задача 7\n",
        "Написать функцию, принимающая целое число n, задающее количество кубиков. Функция\n",
        "должна определить, можно ли из данного кол-ва кубиков построить пирамиду, то есть\n",
        "можно ли представить число n как 1^2+2^2+3^2+…+k^2. Если можно, то функция должна\n",
        "вернуть k, иначе строку “It is impossible”. Написать тесты для кода"
      ]
    },
    {
      "cell_type": "code",
      "execution_count": 16,
      "metadata": {
        "id": "3YPjEXxhX_YT"
      },
      "outputs": [
        {
          "name": "stdout",
          "output_type": "stream",
          "text": [
            "1\n",
            "It is impossible\n",
            "It is impossible\n",
            "5\n",
            "It is impossible\n",
            "It is impossible\n",
            "Некорректный ввод\n",
            "Некорректный ввод\n"
          ]
        }
      ],
      "source": [
        "def func(a):\n",
        "    if not isinstance(a, int) or a < 0 and not isinstance(a, str): return \"Некорректный ввод\"\n",
        "\n",
        "    num = 0\n",
        "    n = 0\n",
        "\n",
        "    while num < a:\n",
        "        n += 1\n",
        "        num += n ** 2\n",
        "\n",
        "    if num == a: return n\n",
        "    else: return 'It is impossible'\n",
        "\n",
        "\n",
        "def test_1():\n",
        "    return func(1)\n",
        "\n",
        "def test_2():\n",
        "    return func(16)\n",
        "\n",
        "def test_3():\n",
        "    return func(6)\n",
        "\n",
        "def test_4():\n",
        "    return func(55)\n",
        "\n",
        "def test_5():\n",
        "    return func(10)\n",
        "\n",
        "def test_6():\n",
        "    return func(43223)\n",
        "\n",
        "def test_7():\n",
        "    return func('fdgdgfgdfg')\n",
        "\n",
        "def test_8():\n",
        "    return func(-999)\n",
        "\n",
        "\n",
        "print(test_1())\n",
        "print(test_2())\n",
        "print(test_3())\n",
        "print(test_4())\n",
        "print(test_5())\n",
        "print(test_6())\n",
        "print(test_7())\n",
        "print(test_8())"
      ]
    },
    {
      "cell_type": "markdown",
      "metadata": {
        "id": "KeKgmIdAQMEJ"
      },
      "source": [
        "# Задача 8\n",
        "Функция принимает на вход положительное число и определяет является ли оно сбалансированным, т.е. сумма цифр до средних равна сумме цифр после. Средними в случае нечетного числа цифр считать одну цифру, в случае четного - две средних. Написать тесты для кода"
      ]
    },
    {
      "cell_type": "code",
      "execution_count": 19,
      "metadata": {
        "id": "gMAAqtqlQrZt"
      },
      "outputs": [
        {
          "name": "stdout",
          "output_type": "stream",
          "text": [
            "True\n",
            "True\n",
            "True\n",
            "False\n",
            "True\n",
            "Некорректный ввод\n",
            "Некорректный ввод\n"
          ]
        }
      ],
      "source": [
        "def func(a):\n",
        "    if not isinstance(a, int) or a < 0 and not isinstance(a, str): return \"Некорректный ввод\"\n",
        "\n",
        "    string = str(a)\n",
        "    length = len(string)\n",
        "    left = 0\n",
        "    right = 0\n",
        "\n",
        "    if length % 2 != 0:\n",
        "        for i in string[:length//2]: left += int(i)\n",
        "        for i in string[length//2 + 1:]: right += int(i)\n",
        "    else:\n",
        "        for i in string[:length//2]: left += int(i)\n",
        "        for i in string[length//2:]: right += int(i)\n",
        "\n",
        "    return left == right\n",
        "\n",
        "\n",
        "def test_1():\n",
        "    return func(12312)\n",
        "\n",
        "def test_2():\n",
        "    return func(123321)\n",
        "\n",
        "def test_3():\n",
        "    return func(0)\n",
        "\n",
        "def test_4():\n",
        "    return func(123456)\n",
        "\n",
        "def test_5():\n",
        "    return func(11)\n",
        "\n",
        "def test_6():\n",
        "    return func('adsadf')\n",
        "\n",
        "def test_7():\n",
        "    return func(-5)\n",
        "\n",
        "print(test_1())\n",
        "print(test_2())\n",
        "print(test_3())\n",
        "print(test_4())\n",
        "print(test_5())\n",
        "print(test_6())\n",
        "print(test_7())"
      ]
    }
  ],
  "metadata": {
    "colab": {
      "provenance": []
    },
    "kernelspec": {
      "display_name": "Python 3",
      "name": "python3"
    },
    "language_info": {
      "codemirror_mode": {
        "name": "ipython",
        "version": 3
      },
      "file_extension": ".py",
      "mimetype": "text/x-python",
      "name": "python",
      "nbconvert_exporter": "python",
      "pygments_lexer": "ipython3",
      "version": "3.12.0"
    }
  },
  "nbformat": 4,
  "nbformat_minor": 0
}
